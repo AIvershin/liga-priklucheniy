{
 "cells": [
  {
   "cell_type": "code",
   "execution_count": 1,
   "id": "768d2bd6",
   "metadata": {},
   "outputs": [],
   "source": [
    "import numpy as np \n",
    "import pandas as pd\n",
    "import matplotlib.pyplot as plt\n",
    "import seaborn as sns\n",
    "import plotly.express as px\n",
    "import plotly.graph_objects as go\n",
    "import random\n",
    "\n",
    "import warnings\n",
    "warnings.filterwarnings(\"ignore\")\n",
    "\n",
    "import sys\n",
    "sys.path.append('../lib')\n",
    "\n",
    "pd.set_option('display.max_columns', 500)\n",
    "\n",
    "from datetime import datetime\n",
    "from numpy import inf\n",
    "from math import prod\n",
    "from IPython.display import clear_output\n",
    "\n",
    "from sklearn.metrics import mean_absolute_error,r2_score,mean_squared_error,mean_absolute_percentage_error\n",
    "from sklearn.linear_model import LinearRegression\n",
    "\n",
    "# Конфиг\n",
    "from model_functions import *\n",
    "from model_features import *\n",
    "from model_metrics import *\n",
    "\n",
    "# Для автообновления конфига\n",
    "%load_ext autoreload\n",
    "%autoreload 2"
   ]
  },
  {
   "cell_type": "markdown",
   "id": "6d6dbf32",
   "metadata": {},
   "source": [
    "### 1. Подготовка"
   ]
  },
  {
   "cell_type": "markdown",
   "id": "5fdba1c9",
   "metadata": {},
   "source": [
    "#### Загружаем данные\n",
    "\n",
    "В качестве прогнозных макроданных используем **базовый вариант развития Банка России** (всё в темпах прироста)\n",
    "\n",
    "Значения дамми-переменных проставим нулевыми (это легко можно поменять)"
   ]
  },
  {
   "cell_type": "code",
   "execution_count": 90,
   "id": "00d6e878",
   "metadata": {},
   "outputs": [],
   "source": [
    "data=pd.read_excel('../data/data_predict.xlsx',sheet_name='data')"
   ]
  },
  {
   "cell_type": "markdown",
   "id": "81bda0fe",
   "metadata": {},
   "source": [
    "#### Генерим лаги"
   ]
  },
  {
   "cell_type": "code",
   "execution_count": 91,
   "id": "cdf6d2e5",
   "metadata": {},
   "outputs": [],
   "source": [
    "data_lag=pd.DataFrame()\n",
    "# Сдвигаем период на 1 вперёд относительно data_delta\n",
    "data_lag['period']=data['period'][1:]\n",
    "# Добавляем лаги\n",
    "for c in data.drop('period',axis=1).columns:\n",
    "    data_lag[f'l1_{c}']=data[c][:-1].values"
   ]
  },
  {
   "cell_type": "markdown",
   "id": "78b00fa2",
   "metadata": {},
   "source": [
    "#### Берём лаги тех признаков, которые входят в модель"
   ]
  },
  {
   "cell_type": "code",
   "execution_count": 92,
   "id": "7bc7eeda",
   "metadata": {},
   "outputs": [],
   "source": [
    "# Признаки с лагом\n",
    "features_lag=[c for c in model_features if 'l1' in c]\n",
    "# Признаки с лагом, но без префикса l1\n",
    "features_lag_without_l1=[c.replace('l1_','') for c in features_lag]\n",
    "# Лаговые данные\n",
    "data_lag=data_lag[['period']+features_lag]"
   ]
  },
  {
   "cell_type": "markdown",
   "id": "1afe294a",
   "metadata": {},
   "source": [
    "#### Объединяем"
   ]
  },
  {
   "cell_type": "code",
   "execution_count": 109,
   "id": "b67a577a",
   "metadata": {},
   "outputs": [],
   "source": [
    "data_predict=pd.merge(data.drop(features_lag_without_l1,axis=1),data_lag,on='period')"
   ]
  },
  {
   "cell_type": "markdown",
   "id": "9182ccac",
   "metadata": {},
   "source": [
    "### 2. Прогнозы"
   ]
  },
  {
   "cell_type": "markdown",
   "id": "e84a2ab6",
   "metadata": {},
   "source": [
    "#### Загружаем коэффициенты линейной регрессии"
   ]
  },
  {
   "cell_type": "code",
   "execution_count": 11,
   "id": "5a07996d",
   "metadata": {},
   "outputs": [],
   "source": [
    "model_coef=pd.read_excel('../results/Linreg_Results.xlsx',sheet_name='coef')[:-1]"
   ]
  },
  {
   "cell_type": "markdown",
   "id": "4873b8b2",
   "metadata": {},
   "source": [
    "#### Строим поквартальные прогнозы"
   ]
  },
  {
   "cell_type": "code",
   "execution_count": 116,
   "id": "844fa642",
   "metadata": {},
   "outputs": [],
   "source": [
    "# Нужный порядок столбцов\n",
    "quarter_preds=data_predict[model_coef.feature]\n",
    "# Пустая строка\n",
    "quarter_preds.loc[len(quarter_preds)] = ['miss','miss','miss','miss','miss','miss','miss']\n",
    "# Прогноз\n",
    "for i in range(len(quarter_preds)-1):\n",
    "    quarter_preds['l1_target'][i+1]=np.sum(model_coef['coefficient'].values*quarter_preds.iloc[i].values)\n",
    "# Нужный формат\n",
    "quarter_preds=pd.DataFrame({'period': data.period, 'prediction': quarter_preds['l1_target']})"
   ]
  },
  {
   "cell_type": "markdown",
   "id": "0b13fdc1",
   "metadata": {},
   "source": [
    "#### Сохраняем"
   ]
  },
  {
   "cell_type": "code",
   "execution_count": 118,
   "id": "e7ae0143",
   "metadata": {},
   "outputs": [],
   "source": [
    "quarter_preds.to_excel('../results/Quarter_Predictions.xlsx',index=0)"
   ]
  }
 ],
 "metadata": {
  "kernelspec": {
   "display_name": "Python 3 (ipykernel)",
   "language": "python",
   "name": "python3"
  },
  "language_info": {
   "codemirror_mode": {
    "name": "ipython",
    "version": 3
   },
   "file_extension": ".py",
   "mimetype": "text/x-python",
   "name": "python",
   "nbconvert_exporter": "python",
   "pygments_lexer": "ipython3",
   "version": "3.9.13"
  }
 },
 "nbformat": 4,
 "nbformat_minor": 5
}
