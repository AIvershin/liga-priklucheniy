{
 "cells": [
  {
   "cell_type": "code",
   "execution_count": 1,
   "id": "e72d2499",
   "metadata": {},
   "outputs": [],
   "source": [
    "import numpy as np \n",
    "import pandas as pd\n",
    "import matplotlib.pyplot as plt\n",
    "import seaborn as sns\n",
    "\n",
    "pd.set_option('display.max_columns', 500)"
   ]
  },
  {
   "cell_type": "markdown",
   "id": "33bc3af5",
   "metadata": {},
   "source": [
    "### 1. Подготовка"
   ]
  },
  {
   "cell_type": "markdown",
   "id": "5fdba1c9",
   "metadata": {},
   "source": [
    "#### Данные"
   ]
  },
  {
   "cell_type": "code",
   "execution_count": 5,
   "id": "00d6e878",
   "metadata": {},
   "outputs": [],
   "source": [
    "data_month=pd.read_excel('data_case.xlsx',sheet_name='month')\n",
    "data_quarter=pd.read_excel('data_case.xlsx',sheet_name='quarter')\n",
    "descriptions=pd.read_excel('data_case.xlsx',sheet_name='description')"
   ]
  },
  {
   "cell_type": "markdown",
   "id": "02db3a19",
   "metadata": {},
   "source": [
    "#### Признаки по типам\n",
    "\n",
    "Разделяем признаки по типам для более удобной аугментации (data augmentation)"
   ]
  },
  {
   "cell_type": "code",
   "execution_count": 6,
   "id": "62e3e5af",
   "metadata": {},
   "outputs": [],
   "source": [
    "# Объёмные признаки (не цены, не индексы, не доходности)\n",
    "volume_features=[\n",
    "    'stock_market_volume', \n",
    "    'goods_market_volume',\n",
    "    'sber_volume', \n",
    "    'sber_orders',\n",
    "    'spy_volume', \n",
    "    'dji_volume',\n",
    "    'ixic_volume',\n",
    "    'money_m2', \n",
    "    'money_m0',\n",
    "    'credit_volume',\n",
    "    'rkpdh_volume', \n",
    "    'vnok_volume',\n",
    "    'im_volume',\n",
    "    'ex_volume', \n",
    "    'gdp_volume',\n",
    "    'product_taxes_volume', \n",
    "    'income_percapita_volume'\n",
    "]\n",
    "\n",
    "# Ценовые признаки\n",
    "price_features=[\n",
    "    'rtsi_max',\n",
    "    'rtsi_min', \n",
    "    'rtsi_last', \n",
    "    'sber_last',\n",
    "    'spy_close', \n",
    "    'dji_close', \n",
    "    'ixic_close',\n",
    "    'brent_price',\n",
    "    'real_estate_2_price', \n",
    "    'real_estate_1_price'\n",
    "]\n",
    "\n",
    "# Темпы роста (индексы)\n",
    "index_features=[\n",
    "    'cpi_all',\n",
    "    'cpi_cars',\n",
    "    'vi_retail',\n",
    "    'vi_gdp',\n",
    "    'pi_gdp',\n",
    "    'vi_vnok',\n",
    "    'vi_rkpdh'\n",
    "]\n",
    "\n",
    "# Темпы прироста (доходности)\n",
    "delta_features=[\n",
    "    'ofz_1', \n",
    "    'ofz_10', \n",
    "    'ofz_30'\n",
    "]\n",
    "\n",
    "# Прочие признаки\n",
    "other_features=[\n",
    "    'ofz_diff_10_1',\n",
    "    'ofz_diff_30_10', \n",
    "    'ofz_diff_30_1',\n",
    "    'unempl_rate', \n",
    "    'int_rate'\n",
    "]"
   ]
  },
  {
   "cell_type": "markdown",
   "id": "a36d9ab8",
   "metadata": {},
   "source": [
    "#### Словарь с признаками\n",
    "\n",
    "Для каждого типа задачи (месяц/квартал) создаём свои наборы признаков"
   ]
  },
  {
   "cell_type": "code",
   "execution_count": 7,
   "id": "6a830a3c",
   "metadata": {},
   "outputs": [],
   "source": [
    "features_dict={\n",
    "    'month':\n",
    "            {\n",
    "             'volume_features':[x for x in data_month.columns if x in volume_features],\n",
    "             'price_features':[x for x in data_month.columns if x in price_features],\n",
    "             'index_features':[x for x in data_month.columns if x in index_features],\n",
    "             'delta_features':[x for x in data_month.columns if x in delta_features],\n",
    "             'other_features':[x for x in data_month.columns if x in other_features]\n",
    "            },\n",
    "    'quarter':\n",
    "            {\n",
    "             'volume_features':[x for x in data_quarter.columns if x in volume_features],\n",
    "             'price_features':[x for x in data_quarter.columns if x in price_features],\n",
    "             'index_features':[x for x in data_quarter.columns if x in index_features],\n",
    "             'delta_features':[x for x in data_quarter.columns if x in delta_features],\n",
    "             'other_features':[x for x in data_quarter.columns if x in other_features]\n",
    "            }\n",
    "}"
   ]
  },
  {
   "cell_type": "markdown",
   "id": "7a9eddc7",
   "metadata": {},
   "source": [
    "### 2. Генерация признаков"
   ]
  },
  {
   "cell_type": "markdown",
   "id": "58a73ab5",
   "metadata": {},
   "source": [
    "#### Функции для базовой генерации"
   ]
  },
  {
   "cell_type": "code",
   "execution_count": 8,
   "id": "daa44e2a",
   "metadata": {},
   "outputs": [],
   "source": [
    "# Абсолютный рост, темпы роста и прироста\n",
    "def gen_growth(data,features):\n",
    "    \"\"\"\n",
    "    Функция генерирует динамику признаков\n",
    "    \"\"\"\n",
    "    data_growth=pd.DataFrame(data['period'][1:],columns=['period'])\n",
    "    for c in features:\n",
    "        data_growth[f'abs_growth_{c}']=data[c][1:].values-data[c][0:-1].values\n",
    "        data_growth[f'index_{c}']=data[c][1:].values/data[c][0:-1].values\n",
    "        data_growth[f'delta_rate_{c}']=(data[c][1:].values/data[c][0:-1].values-1)*100\n",
    "        \n",
    "    return data_growth\n",
    "\n",
    "# Лаги\n",
    "def gen_lag(data,features,lag):\n",
    "    \"\"\"\n",
    "    Функция генерирует лаги признаков\n",
    "    \"\"\"\n",
    "    data_lag=pd.DataFrame(data['period'][lag:],columns=['period'])\n",
    "    for c in features:\n",
    "        data_lag[f'l{lag}_{c}']=data[c][:-lag].values\n",
    "        \n",
    "    return data_lag\n",
    "\n",
    "# Логарифмы\n",
    "def gen_log(data,features):\n",
    "    \"\"\"\n",
    "    Функция генерирует логарифмы признаков\n",
    "    \"\"\"\n",
    "    data_log=pd.DataFrame(data['period'],columns=['period'])\n",
    "    for c in features:\n",
    "        data_log[f'log_{c}']=data[c].apply(lambda x: np.log(x) if x>0 else 0)\n",
    "    \n",
    "    return data_log"
   ]
  },
  {
   "cell_type": "code",
   "execution_count": null,
   "id": "1536285b",
   "metadata": {},
   "outputs": [],
   "source": []
  }
 ],
 "metadata": {
  "kernelspec": {
   "display_name": "Python 3 (ipykernel)",
   "language": "python",
   "name": "python3"
  },
  "language_info": {
   "codemirror_mode": {
    "name": "ipython",
    "version": 3
   },
   "file_extension": ".py",
   "mimetype": "text/x-python",
   "name": "python",
   "nbconvert_exporter": "python",
   "pygments_lexer": "ipython3",
   "version": "3.9.13"
  }
 },
 "nbformat": 4,
 "nbformat_minor": 5
}
